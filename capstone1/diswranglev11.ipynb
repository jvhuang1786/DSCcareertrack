{
 "cells": [
  {
   "cell_type": "code",
   "execution_count": 8,
   "metadata": {},
   "outputs": [],
   "source": [
    "#import pandas \n",
    "import pandas as pd\n",
    "#import numpy\n",
    "import numpy as np\n",
    "#import warning\n",
    "import warnings\n",
    "warnings.filterwarnings('ignore')\n",
    "\n",
    "# Set iPython's max column width to 1000\n",
    "pd.set_option('display.max_columns', 1000)\n",
    "pd.set_option('display.max_colwidth', -1)\n",
    "pd.options.display.float_format = '{:,.0f}'.format"
   ]
  },
  {
   "cell_type": "code",
   "execution_count": null,
   "metadata": {},
   "outputs": [],
   "source": [
    "#load in json file \n",
    "file = 'disresort3.json'\n",
    "df = pd.read_json(file,lines = True, orient= 'columns')"
   ]
  },
  {
   "cell_type": "code",
   "execution_count": null,
   "metadata": {},
   "outputs": [],
   "source": [
    "#take columns for the sentiment analysis\n",
    "df = df[['text','id',\n",
    "          'lang','created_at',\n",
    "          'user','source','retweeted_status',\n",
    "          'extended_tweet', 'entities']]"
   ]
  },
  {
   "cell_type": "code",
   "execution_count": null,
   "metadata": {},
   "outputs": [],
   "source": [
    "#retweeted status nested dictionary \n",
    "df['rt_created_at'] = [d.get('created_at') if type(d) == dict else np.nan\n",
    "                        for d in df['retweeted_status']]\n",
    "df['rt_id'] =  [d.get('id') if type(d) == dict else np.nan\n",
    "                 for d in df['retweeted_status']]\n",
    "df['rt_text'] = [d.get('text') if type(d) == dict else np.nan\n",
    "                  for d in df['retweeted_status']]\n",
    "df['rt_source'] = [d.get('source') if type(d) == dict else np.nan\n",
    "                    for d in df['retweeted_status']]\n",
    "df['rt_user'] = [d.get('user') if type(d) == dict else np.nan\n",
    "                  for d in df['retweeted_status']]\n",
    "df['rt_retweet_count'] = [d.get('retweet_count') if type(d) == dict else np.nan\n",
    "                           for d in df['retweeted_status']]\n",
    "df['rt_favorite_count'] = [d.get('favorite_count') if type(d) == dict else np.nan\n",
    "                            for d in df['retweeted_status']]\n",
    "df['rt_lang'] = [d.get('lang') if type(d) == dict else np.nan\n",
    "                  for d in df['retweeted_status']]"
   ]
  },
  {
   "cell_type": "code",
   "execution_count": null,
   "metadata": {},
   "outputs": [],
   "source": [
    "#Get nested dictionary within rt_user \n",
    "df['rt_user_id'] = [d.get('id') if type(d) == dict\n",
    "                          else np.nan for d in df['rt_user']]\n",
    "df['rt_user_name'] = [d.get('name') if type(d) == dict\n",
    "                          else np.nan for d in df['rt_user']]\n",
    "df['rt_user_screen_name'] = [d.get('screen_name') if type(d) == dict\n",
    "                          else np.nan for d in df['rt_user']]\n",
    "df['rt_user_location'] = [d.get('location') if type(d) == dict\n",
    "                          else np.nan for d in df['rt_user']]\n",
    "df['rt_user_follower_count'] = [d.get('followers_count') if type(d) == dict\n",
    "                          else np.nan for d in df['rt_user']]\n",
    "df['rt_user_friends_count'] = [d.get('friends_count') if type(d) == dict\n",
    "                          else np.nan for d in df['rt_user']]\n",
    "df['rt_user_listed_count'] = [d.get('listed_count') if type(d) == dict\n",
    "                          else np.nan for d in df['rt_user']]\n",
    "df['rt_user_favorites_count'] = [d.get('favourites_count') if type(d) == dict\n",
    "                          else np.nan for d in df['rt_user']]\n",
    "df['rt_user_statuses_count'] = [d.get('statuses_count') if type(d) == dict\n",
    "                          else np.nan for d in df['rt_user']]\n",
    "df['rt_user_created_at'] = [d.get('created_at') if type(d) == dict\n",
    "                          else np.nan for d in df['rt_user']]\n",
    "df['rt_user_description'] = [d.get('description') if type(d) == dict\n",
    "                          else np.nan for d in df['rt_user']]"
   ]
  },
  {
   "cell_type": "code",
   "execution_count": null,
   "metadata": {},
   "outputs": [],
   "source": [
    "#pull out extended Tweets\n",
    "df['ex_tw_full_text'] = [d.get('full_text') if type(d) == dict else np.nan\n",
    "                          for d in df['extended_tweet']]\n",
    "df['ex_tw_entities'] = [d.get('entities') if type(d) == dict else np.nan\n",
    "                         for d in df['extended_tweet']]"
   ]
  },
  {
   "cell_type": "code",
   "execution_count": null,
   "metadata": {},
   "outputs": [],
   "source": [
    "#selecting dictionaries from user, nested dictionary\n",
    "df['user_id'] = np.array([x['id'] for x in df['user']])\n",
    "df['user_screen_name'] = np.array([x['screen_name'] for x in df['user']])\n",
    "df['user_location'] = np.array([x['location'] for x in df['user']])\n",
    "df['user_description'] = np.array([x['description'] for x in df['user']])\n",
    "df['user_fol_count'] = np.array([x['followers_count'] for x in df['user']])\n",
    "df['user_fr_count'] = np.array([x['friends_count'] for x in df['user']])\n",
    "df['user_fav_count'] = np.array([x['favourites_count'] for x in df['user']])\n",
    "df['user_status_count'] = np.array([x['statuses_count'] for x in df['user']])\n",
    "df['user_created_at'] = np.array([x['created_at'] for x in df['user']])\n",
    "df['user_listed_count'] = np.array([x['listed_count'] for x in df['user']])"
   ]
  },
  {
   "cell_type": "code",
   "execution_count": null,
   "metadata": {},
   "outputs": [],
   "source": [
    "#Clean up the source\n",
    "from bs4 import BeautifulSoup\n",
    "df['source'] = [BeautifulSoup(text).get_text() for text in df['source']]\n",
    "#clean rt_source\n",
    "df['rt_source']= df['rt_source'].replace(np.nan, '')\n",
    "df['rt_source'] = [BeautifulSoup(text).get_text() if text != np.nan\n",
    "                    else np.nan for text in df['rt_source']]"
   ]
  },
  {
   "cell_type": "code",
   "execution_count": null,
   "metadata": {},
   "outputs": [],
   "source": [
    "#change the date time column\n",
    "df['created_at'] = pd.to_datetime(df['created_at'])\n",
    "df['rt_created_at'] = pd.to_datetime(df['rt_created_at'])\n",
    "df['rt_user_created_at'] = pd.to_datetime(df['rt_user_created_at'])"
   ]
  },
  {
   "cell_type": "code",
   "execution_count": null,
   "metadata": {},
   "outputs": [],
   "source": [
    "#Write regular or findall expression to pull out @ and # from rt_text, text and ex_text \n",
    "# #hashtags \n",
    "df['text_hashtags'] = df.text.str.findall(r'#.*?(?=\\s|$)')\n",
    "df['rt_text_hashtags'] = df.rt_text.str.findall(r'#.*?(?=\\s|$)')\n",
    "df['ex_tw_full_text_hashtags'] = df.ex_tw_full_text.str.findall(r'#.*?(?=\\s|$)')\n",
    "\n",
    "# @mentions\n",
    "df['text_mentions'] = df.text.str.findall(r'@.*?(?=\\s|$)')\n",
    "df['rt_text_mentions'] = df.rt_text.str.findall(r'@.*?(?=\\s|$)')\n",
    "df['ex_tw_full_text_mentions'] = df.ex_tw_full_text.str.findall(r'@.*?(?=\\s|$)')"
   ]
  },
  {
   "cell_type": "code",
   "execution_count": null,
   "metadata": {},
   "outputs": [],
   "source": [
    "#remove unecssary columns\n",
    "df = df.drop(columns = {'rt_user','retweeted_status', \n",
    "                        'extended_tweet', 'user', 'entities',\n",
    "                       'ex_tw_entities'})"
   ]
  },
  {
   "cell_type": "code",
   "execution_count": null,
   "metadata": {},
   "outputs": [],
   "source": [
    "#saving cleand data as a csv file \n",
    "df.to_csv('cleaned_sample_dis.csv',index = False)"
   ]
  },
  {
   "cell_type": "code",
   "execution_count": null,
   "metadata": {},
   "outputs": [],
   "source": []
  }
 ],
 "metadata": {
  "kernelspec": {
   "display_name": "Python 3",
   "language": "python",
   "name": "python3"
  },
  "language_info": {
   "codemirror_mode": {
    "name": "ipython",
    "version": 3
   },
   "file_extension": ".py",
   "mimetype": "text/x-python",
   "name": "python",
   "nbconvert_exporter": "python",
   "pygments_lexer": "ipython3",
   "version": "3.7.3"
  }
 },
 "nbformat": 4,
 "nbformat_minor": 2
}
