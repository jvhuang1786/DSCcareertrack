{
 "cells": [
  {
   "cell_type": "markdown",
   "metadata": {},
   "source": [
    "###### Import all modules used to clean the data\n",
    "* pandas\n",
    "* numpy\n",
    "* warnings\n",
    "* bs4\n",
    "* pd.set_options to see the rows. "
   ]
  },
  {
   "cell_type": "code",
   "execution_count": 1,
   "metadata": {},
   "outputs": [],
   "source": [
    "import pandas as pd\n",
    "import numpy as np\n",
    "import warnings\n",
    "warnings.filterwarnings('ignore')\n",
    "from bs4 import BeautifulSoup\n",
    "\n",
    "pd.set_option('display.max_columns', 1000)\n",
    "pd.set_option('display.max_colwidth', -1)\n",
    "pd.options.display.float_format = '{:,.0f}'.format"
   ]
  },
  {
   "cell_type": "markdown",
   "metadata": {},
   "source": [
    "###### Load in json file \n"
   ]
  },
  {
   "cell_type": "code",
   "execution_count": 2,
   "metadata": {},
   "outputs": [],
   "source": [
    "file = 'disresort3.json'\n",
    "df = pd.read_json(file,lines = True, orient= 'columns')"
   ]
  },
  {
   "cell_type": "markdown",
   "metadata": {},
   "source": [
    "###### Take columns we need to do sentiment analysis "
   ]
  },
  {
   "cell_type": "code",
   "execution_count": 3,
   "metadata": {},
   "outputs": [],
   "source": [
    "df = df[['text','id',\n",
    "          'lang','created_at',\n",
    "          'user','source','retweeted_status',\n",
    "          'extended_tweet', 'entities']]"
   ]
  },
  {
   "cell_type": "markdown",
   "metadata": {},
   "source": [
    "###### Accessing retweeted status nested dictionary "
   ]
  },
  {
   "cell_type": "code",
   "execution_count": 4,
   "metadata": {},
   "outputs": [],
   "source": [
    "df['rt_created_at'] = [d.get('created_at') if type(d) == dict else np.nan\n",
    "                        for d in df['retweeted_status']]\n",
    "df['rt_id'] =  [d.get('id') if type(d) == dict else np.nan\n",
    "                 for d in df['retweeted_status']]\n",
    "df['rt_text'] = [d.get('text') if type(d) == dict else np.nan\n",
    "                  for d in df['retweeted_status']]\n",
    "df['rt_source'] = [d.get('source') if type(d) == dict else np.nan\n",
    "                    for d in df['retweeted_status']]\n",
    "df['rt_user'] = [d.get('user') if type(d) == dict else np.nan\n",
    "                  for d in df['retweeted_status']]\n",
    "df['rt_retweet_count'] = [d.get('retweet_count') if type(d) == dict else np.nan\n",
    "                           for d in df['retweeted_status']]\n",
    "df['rt_favorite_count'] = [d.get('favorite_count') if type(d) == dict else np.nan\n",
    "                            for d in df['retweeted_status']]\n",
    "df['rt_lang'] = [d.get('lang') if type(d) == dict else np.nan\n",
    "                  for d in df['retweeted_status']]"
   ]
  },
  {
   "cell_type": "code",
   "execution_count": 5,
   "metadata": {},
   "outputs": [],
   "source": [
    "df['rt_user_id'] = [d.get('id') if type(d) == dict\n",
    "                          else np.nan for d in df['rt_user']]\n",
    "df['rt_user_name'] = [d.get('name') if type(d) == dict\n",
    "                          else np.nan for d in df['rt_user']]\n",
    "df['rt_user_screen_name'] = [d.get('screen_name') if type(d) == dict\n",
    "                          else np.nan for d in df['rt_user']]\n",
    "df['rt_user_location'] = [d.get('location') if type(d) == dict\n",
    "                          else np.nan for d in df['rt_user']]\n",
    "df['rt_user_follower_count'] = [d.get('followers_count') if type(d) == dict\n",
    "                          else np.nan for d in df['rt_user']]\n",
    "df['rt_user_friends_count'] = [d.get('friends_count') if type(d) == dict\n",
    "                          else np.nan for d in df['rt_user']]\n",
    "df['rt_user_listed_count'] = [d.get('listed_count') if type(d) == dict\n",
    "                          else np.nan for d in df['rt_user']]\n",
    "df['rt_user_favorites_count'] = [d.get('favourites_count') if type(d) == dict\n",
    "                          else np.nan for d in df['rt_user']]\n",
    "df['rt_user_statuses_count'] = [d.get('statuses_count') if type(d) == dict\n",
    "                          else np.nan for d in df['rt_user']]\n",
    "df['rt_user_created_at'] = [d.get('created_at') if type(d) == dict\n",
    "                          else np.nan for d in df['rt_user']]\n",
    "df['rt_user_description'] = [d.get('description') if type(d) == dict\n",
    "                          else np.nan for d in df['rt_user']]"
   ]
  },
  {
   "cell_type": "markdown",
   "metadata": {},
   "source": [
    "###### Accessing Extended Tweets Nested Dictionary "
   ]
  },
  {
   "cell_type": "code",
   "execution_count": 6,
   "metadata": {},
   "outputs": [],
   "source": [
    "df['ex_tw_full_text'] = [d.get('full_text') if type(d) == dict else np.nan\n",
    "                          for d in df['extended_tweet']]\n",
    "df['ex_tw_entities'] = [d.get('entities') if type(d) == dict else np.nan\n",
    "                         for d in df['extended_tweet']]"
   ]
  },
  {
   "cell_type": "markdown",
   "metadata": {},
   "source": [
    "###### Accessing User Nested Dictionary"
   ]
  },
  {
   "cell_type": "code",
   "execution_count": 7,
   "metadata": {},
   "outputs": [],
   "source": [
    "df['user_id'] = [d.get('id') if type(d) == dict else np.nan\n",
    "                          for d in df['user']]\n",
    "df['user_screen_name'] = [d.get('screen_name') if type(d) == dict else np.nan\n",
    "                          for d in df['user']]\n",
    "df['user_location'] = [d.get('location') if type(d) == dict else np.nan\n",
    "                          for d in df['user']]\n",
    "df['user_description'] = [d.get('description') if type(d) == dict else np.nan\n",
    "                          for d in df['user']]\n",
    "df['user_fol_count'] = [d.get('followers_count') if type(d) == dict else np.nan\n",
    "                          for d in df['user']]\n",
    "df['user_fr_count'] = [d.get('friends_count') if type(d) == dict else np.nan\n",
    "                          for d in df['user']]\n",
    "df['user_fav_count'] = [d.get('favourites_count') if type(d) == dict else np.nan\n",
    "                          for d in df['user']]\n",
    "df['user_status_count'] = [d.get('statuses_count') if type(d) == dict else np.nan\n",
    "                          for d in df['user']]\n",
    "df['user_created_at'] = [d.get('created_at') if type(d) == dict else np.nan\n",
    "                          for d in df['user']]\n",
    "df['user_listed_count'] = [d.get('listed_count') if type(d) == dict else np.nan\n",
    "                          for d in df['user']]"
   ]
  },
  {
   "cell_type": "markdown",
   "metadata": {},
   "source": [
    "###### Cleaning up retweet source and source"
   ]
  },
  {
   "cell_type": "code",
   "execution_count": 8,
   "metadata": {},
   "outputs": [],
   "source": [
    "df['source'] = [BeautifulSoup(text).get_text() for text in df['source']]\n",
    "df['rt_source']= df['rt_source'].replace(np.nan, '')\n",
    "df['rt_source'] = [BeautifulSoup(text).get_text() if text != np.nan\n",
    "                    else np.nan for text in df['rt_source']]"
   ]
  },
  {
   "cell_type": "markdown",
   "metadata": {},
   "source": [
    "###### Convert date time columns \n",
    "* created_at \n",
    "* retweet created_at \n",
    "* retweet user created_at\n",
    "* user created_at"
   ]
  },
  {
   "cell_type": "code",
   "execution_count": 9,
   "metadata": {},
   "outputs": [],
   "source": [
    "df['created_at'] = pd.to_datetime(df['created_at'])\n",
    "df['rt_created_at'] = pd.to_datetime(df['rt_created_at'])\n",
    "df['rt_user_created_at'] = pd.to_datetime(df['rt_user_created_at'])\n",
    "df['user_created_at'] = pd.to_datetime(df['user_created_at'])"
   ]
  },
  {
   "cell_type": "markdown",
   "metadata": {},
   "source": [
    "###### Regular Expression to find all the @ mentions and hashtags \n",
    "* retweet text\n",
    "* extended text\n",
    "* text "
   ]
  },
  {
   "cell_type": "code",
   "execution_count": 10,
   "metadata": {},
   "outputs": [],
   "source": [
    "df['text_hashtags'] = df.text.str.findall(r'(#.*?(?=\\s|$)| # .*?(?=\\s|$))')\n",
    "df['rt_text_hashtags'] = df.rt_text.str.findall(r'(#.*?(?=\\s|$)| # .*?(?=\\s|$))')\n",
    "df['ex_tw_full_text_hashtags'] = df.ex_tw_full_text.str.findall(r'(#.*?(?=\\s|$)| # .*?(?=\\s|$))')\n",
    "df['text_mentions'] = df.text.str.findall(r'(@.*?(?=\\s|$)| @ .*?(?=\\s|$))')\n",
    "df['rt_text_mentions'] = df.rt_text.str.findall(r'(@.*?(?=\\s|$)| @ .*?(?=\\s|$))')\n",
    "df['ex_tw_full_text_mentions'] = df.ex_tw_full_text.str.findall(r'(@.*?(?=\\s|$)| @ .*?(?=\\s|$))')                                        "
   ]
  },
  {
   "cell_type": "markdown",
   "metadata": {},
   "source": [
    "###### Extracting Emojis\n",
    "* Text\n",
    "* Extended Text\n",
    "* Retweet Text"
   ]
  },
  {
   "cell_type": "code",
   "execution_count": 11,
   "metadata": {},
   "outputs": [],
   "source": [
    "import emoji\n",
    "import re\n",
    "emojis_list = map(lambda x: ''.join(x.split()), emoji.UNICODE_EMOJI.keys())\n",
    "r = re.compile('|'.join(re.escape(p) for p in emojis_list))\n",
    "df['text_emoji'] = df['text'].str.findall(r)\n",
    "df['ex_tw_full_text_emoji'] = df['ex_tw_full_text'].str.findall(r)\n",
    "df['rt_text_emoji'] = df['rt_text'].str.findall(r)"
   ]
  },
  {
   "cell_type": "markdown",
   "metadata": {},
   "source": [
    "###### Drop Columns not used and remove brackets commas and colons "
   ]
  },
  {
   "cell_type": "code",
   "execution_count": 12,
   "metadata": {},
   "outputs": [],
   "source": [
    "df = df.drop(columns = {'rt_user','retweeted_status', \n",
    "                        'extended_tweet', 'user', 'entities',\n",
    "                       'ex_tw_entities'})\n",
    "df = df.replace([],'')\n",
    "df = df.replace('[]','')\n",
    "df = df.replace(np.nan,'')\n",
    "df['text_hashtags']=df['text_hashtags'].replace(',','')\n",
    "df['text_hashtags']=df['text_hashtags'].replace(':','')\n",
    "df['text_mentions']=df['text_mentions'].replace(',','')\n",
    "df['text_mentions']=df['text_mentions'].replace(':','')"
   ]
  },
  {
   "cell_type": "markdown",
   "metadata": {},
   "source": [
    "###### Save Cleaned Data to Csv File "
   ]
  },
  {
   "cell_type": "code",
   "execution_count": 13,
   "metadata": {},
   "outputs": [],
   "source": [
    "df.to_csv('sample_dis1.csv',index = False)"
   ]
  }
 ],
 "metadata": {
  "kernelspec": {
   "display_name": "Python 3",
   "language": "python",
   "name": "python3"
  },
  "language_info": {
   "codemirror_mode": {
    "name": "ipython",
    "version": 3
   },
   "file_extension": ".py",
   "mimetype": "text/x-python",
   "name": "python",
   "nbconvert_exporter": "python",
   "pygments_lexer": "ipython3",
   "version": "3.7.3"
  }
 },
 "nbformat": 4,
 "nbformat_minor": 2
}
